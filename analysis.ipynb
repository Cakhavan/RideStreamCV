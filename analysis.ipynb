{
 "nbformat": 4,
 "nbformat_minor": 2,
 "metadata": {
  "language_info": {
   "name": "python",
   "codemirror_mode": {
    "name": "ipython",
    "version": 3
   },
   "version": "3.7.6-final"
  },
  "orig_nbformat": 2,
  "file_extension": ".py",
  "mimetype": "text/x-python",
  "name": "python",
  "npconvert_exporter": "python",
  "pygments_lexer": "ipython3",
  "version": 3,
  "kernelspec": {
   "name": "python37664bittestconda42a2969441114a6a9156acaea3a0c1c0",
   "display_name": "Python 3.7.6 64-bit ('test': conda)"
  }
 },
 "cells": [
  {
   "cell_type": "code",
   "execution_count": 28,
   "metadata": {},
   "outputs": [],
   "source": [
    "import os\n",
    "import torch\n",
    "import pandas as pd\n",
    "from skimage import io, transform\n",
    "import numpy as np\n",
    "import matplotlib.pyplot as plt\n",
    "from torch.utils.data import Dataset, DataLoader\n",
    "from torchvision import transforms, utils"
   ]
  },
  {
   "cell_type": "code",
   "execution_count": 9,
   "metadata": {},
   "outputs": [],
   "source": [
    "dataset = pd.read_csv('./age_gender.csv')"
   ]
  },
  {
   "cell_type": "code",
   "execution_count": 27,
   "metadata": {},
   "outputs": [
    {
     "data": {
      "text/plain": "(5,)"
     },
     "execution_count": 27,
     "metadata": {},
     "output_type": "execute_result"
    }
   ],
   "source": [
    "data.head()"
   ]
  },
  {
   "cell_type": "code",
   "execution_count": 11,
   "metadata": {},
   "outputs": [],
   "source": [
    "data = dataset.pixels.apply(lambda x: np.array(x.split(\" \"),dtype = float))\n",
    "arr = np.stack(data)\n",
    "arr = arr / 255.0\n",
    "arr = arr.astype('float32')\n",
    "arr = arr.reshape(arr.shape[0],48,48,1)"
   ]
  },
  {
   "cell_type": "code",
   "execution_count": 21,
   "metadata": {},
   "outputs": [
    {
     "name": "stdout",
     "output_type": "stream",
     "text": "(23705, 48, 48, 1)\n"
    }
   ],
   "source": [
    "print(arr.shape)"
   ]
  },
  {
   "cell_type": "code",
   "execution_count": 41,
   "metadata": {},
   "outputs": [
    {
     "name": "stdout",
     "output_type": "stream",
     "text": "[  1  10 100 101 103 105  11 110 111 115 116  12  13  14  15  16  17  18\n  19   2  20  21  22  23  24  25  26  27  28  29   3  30  31  32  33  34\n  35  36  37  38  39   4  40  41  42  43  44  45  46  47  48  49   5  50\n  51  52  53  54  55  56  57  58  59   6  60  61  62  63  64  65  66  67\n  68  69   7  70  71  72  73  74  75  76  77  78  79   8  80  81  82  83\n  84  85  86  87  88  89   9  90  91  92  93  95  96  99]\n[2 3 4 0 1]\n"
    },
    {
     "data": {
      "text/html": "<div>\n<style scoped>\n    .dataframe tbody tr th:only-of-type {\n        vertical-align: middle;\n    }\n\n    .dataframe tbody tr th {\n        vertical-align: top;\n    }\n\n    .dataframe thead th {\n        text-align: right;\n    }\n</style>\n<table border=\"1\" class=\"dataframe\">\n  <thead>\n    <tr style=\"text-align: right;\">\n      <th></th>\n      <th>age</th>\n      <th>ethnicity</th>\n      <th>gender</th>\n      <th>img_name</th>\n      <th>pixels</th>\n    </tr>\n  </thead>\n  <tbody>\n    <tr>\n      <th>0</th>\n      <td>1</td>\n      <td>2</td>\n      <td>0</td>\n      <td>20161219203650636.jpg.chip.jpg</td>\n      <td>129 128 128 126 127 130 133 135 139 142 145 14...</td>\n    </tr>\n    <tr>\n      <th>1</th>\n      <td>1</td>\n      <td>2</td>\n      <td>0</td>\n      <td>20161219222752047.jpg.chip.jpg</td>\n      <td>164 74 111 168 169 171 175 182 184 188 193 199...</td>\n    </tr>\n    <tr>\n      <th>2</th>\n      <td>1</td>\n      <td>2</td>\n      <td>0</td>\n      <td>20161219222832191.jpg.chip.jpg</td>\n      <td>67 70 71 70 69 67 70 79 90 103 116 132 145 155...</td>\n    </tr>\n    <tr>\n      <th>3</th>\n      <td>1</td>\n      <td>2</td>\n      <td>0</td>\n      <td>20161220144911423.jpg.chip.jpg</td>\n      <td>193 197 198 200 199 200 202 203 204 205 208 21...</td>\n    </tr>\n    <tr>\n      <th>4</th>\n      <td>1</td>\n      <td>2</td>\n      <td>0</td>\n      <td>20161220144914327.jpg.chip.jpg</td>\n      <td>202 205 209 210 209 209 210 211 212 214 218 21...</td>\n    </tr>\n  </tbody>\n</table>\n</div>",
      "text/plain": "   age  ethnicity  gender                        img_name  \\\n0    1          2       0  20161219203650636.jpg.chip.jpg   \n1    1          2       0  20161219222752047.jpg.chip.jpg   \n2    1          2       0  20161219222832191.jpg.chip.jpg   \n3    1          2       0  20161220144911423.jpg.chip.jpg   \n4    1          2       0  20161220144914327.jpg.chip.jpg   \n\n                                              pixels  \n0  129 128 128 126 127 130 133 135 139 142 145 14...  \n1  164 74 111 168 169 171 175 182 184 188 193 199...  \n2  67 70 71 70 69 67 70 79 90 103 116 132 145 155...  \n3  193 197 198 200 199 200 202 203 204 205 208 21...  \n4  202 205 209 210 209 209 210 211 212 214 218 21...  "
     },
     "execution_count": 41,
     "metadata": {},
     "output_type": "execute_result"
    }
   ],
   "source": [
    "data_csv = pd.read_csv('./age_gender.csv')\n",
    "print(data_csv['age'].unique()) #1~116\n",
    "print(data_csv['ethnicity'].unique()) #0~4\n",
    "data_csv.head()"
   ]
  },
  {
   "cell_type": "code",
   "execution_count": 42,
   "metadata": {},
   "outputs": [
    {
     "name": "stdout",
     "output_type": "stream",
     "text": "23695\n"
    },
    {
     "data": {
      "text/html": "<div>\n<style scoped>\n    .dataframe tbody tr th:only-of-type {\n        vertical-align: middle;\n    }\n\n    .dataframe tbody tr th {\n        vertical-align: top;\n    }\n\n    .dataframe thead th {\n        text-align: right;\n    }\n</style>\n<table border=\"1\" class=\"dataframe\">\n  <thead>\n    <tr style=\"text-align: right;\">\n      <th></th>\n      <th>age</th>\n      <th>ethnicity</th>\n      <th>gender</th>\n      <th>img_name</th>\n      <th>pixels</th>\n    </tr>\n  </thead>\n  <tbody>\n    <tr>\n      <th>4</th>\n      <td>1.0</td>\n      <td>2.0</td>\n      <td>0.0</td>\n      <td>20161220144914327.jpg.chip.jpg</td>\n      <td>202 205 209 210 209 209 210 211 212 214 218 21...</td>\n    </tr>\n    <tr>\n      <th>505</th>\n      <td>1.0</td>\n      <td>2.0</td>\n      <td>0.0</td>\n      <td>20161219161941534.jpg.chip.jpg</td>\n      <td>207 207 205 204 201 197 194 191 186 182 180 17...</td>\n    </tr>\n    <tr>\n      <th>1006</th>\n      <td>1.0</td>\n      <td>2.0</td>\n      <td>1.0</td>\n      <td>20161219162225422.jpg.chip.jpg</td>\n      <td>0 1 0 1 11 42 40 119 180 188 189 194 194 191 1...</td>\n    </tr>\n    <tr>\n      <th>2507</th>\n      <td>18.0</td>\n      <td>0.0</td>\n      <td>1.0</td>\n      <td>20170109213935367.jpg.chip.jpg</td>\n      <td>32 31 36 29 39 43 77 131 151 155 176 191 203 2...</td>\n    </tr>\n    <tr>\n      <th>5008</th>\n      <td>24.0</td>\n      <td>1.0</td>\n      <td>0.0</td>\n      <td>20170102233456210.jpg.chip.jpg</td>\n      <td>170 159 142 163 188 136 140 152 142 168 172 15...</td>\n    </tr>\n  </tbody>\n</table>\n</div>",
      "text/plain": "       age  ethnicity  gender                        img_name  \\\n4      1.0        2.0     0.0  20161220144914327.jpg.chip.jpg   \n505    1.0        2.0     0.0  20161219161941534.jpg.chip.jpg   \n1006   1.0        2.0     1.0  20161219162225422.jpg.chip.jpg   \n2507  18.0        0.0     1.0  20170109213935367.jpg.chip.jpg   \n5008  24.0        1.0     0.0  20170102233456210.jpg.chip.jpg   \n\n                                                 pixels  \n4     202 205 209 210 209 209 210 211 212 214 218 21...  \n505   207 207 205 204 201 197 194 191 186 182 180 17...  \n1006  0 1 0 1 11 42 40 119 180 188 189 194 194 191 1...  \n2507  32 31 36 29 39 43 77 131 151 155 176 191 203 2...  \n5008  170 159 142 163 188 136 140 152 142 168 172 15...  "
     },
     "execution_count": 42,
     "metadata": {},
     "output_type": "execute_result"
    }
   ],
   "source": [
    "test_list = [4, 504, 1004, 2504, 5004, 6904, 17894, 18644, 20004, 23014]\n",
    "test_csv = pd.DataFrame()\n",
    "for i in test_list :\n",
    "    test_csv = test_csv.append(data_csv.iloc[i])\n",
    "    data_csv = data_csv.drop(i)\n",
    "\n",
    "print(len(data_csv))\n",
    "test_csv.head()"
   ]
  },
  {
   "cell_type": "code",
   "execution_count": null,
   "metadata": {},
   "outputs": [],
   "source": []
  },
  {
   "cell_type": "code",
   "execution_count": 50,
   "metadata": {},
   "outputs": [],
   "source": [
    "from torch.utils.data import Dataset, DataLoader\n",
    "import torchvision.transforms as transforms\n",
    "import torch\n",
    "import cv2\n",
    "\n",
    "class dataset(Dataset) :\n",
    "    def __init__(self, csv_file, transform=None) :\n",
    "        self.data_holder = pd.read_csv(csv_file)\n",
    "        data = self.data_holder.pixels.apply(lambda x: np.array(x.split(\" \"),dtype = float))\n",
    "        arr = np.stack(data)\n",
    "        arr = arr / 255.0\n",
    "        arr = arr.astype('float32')\n",
    "        arr = arr.reshape(arr.shape[0],48,48,1)\n",
    "        self.img = arr\n",
    "        \n",
    "    def __len__(self) :\n",
    "        return len(self.img)\n",
    "    \n",
    "    def __getitem__(self, index) :\n",
    "        age_label = self.data_holder['age'][index]\n",
    "        eth_label = self.data_holder['ethnicity'][index]\n",
    "        gen_label = self.data_holder['gender'][index]\n",
    "        \n",
    "        img = self.img[index].reshape(48, 48, 1)\n",
    "        #img = cv2.cvtColor(img, cv2.COLOR_GRAY2BGR)\n",
    "        # img = self.transform(img)\n",
    "        \n",
    "        return img, age_label, eth_label, gen_label\n",
    "    \n",
    "train_data = dataset('./age_gender.csv')\n",
    "train_data = DataLoader(train_data, batch_size = 128, shuffle = True)"
   ]
  },
  {
   "cell_type": "code",
   "execution_count": 51,
   "metadata": {},
   "outputs": [
    {
     "ename": "ValueError",
     "evalue": "too many values to unpack (expected 2)",
     "output_type": "error",
     "traceback": [
      "\u001b[0;31m---------------------------------------------------------------------------\u001b[0m",
      "\u001b[0;31mValueError\u001b[0m                                Traceback (most recent call last)",
      "\u001b[0;32m<ipython-input-51-e50c7c7d23f7>\u001b[0m in \u001b[0;36m<module>\u001b[0;34m\u001b[0m\n\u001b[0;32m----> 1\u001b[0;31m \u001b[0;32mfor\u001b[0m \u001b[0mstep\u001b[0m\u001b[0;34m,\u001b[0m \u001b[0;34m(\u001b[0m\u001b[0mx\u001b[0m\u001b[0;34m,\u001b[0m \u001b[0my\u001b[0m\u001b[0;34m)\u001b[0m \u001b[0;32min\u001b[0m \u001b[0menumerate\u001b[0m\u001b[0;34m(\u001b[0m\u001b[0mtrain_data\u001b[0m\u001b[0;34m)\u001b[0m\u001b[0;34m:\u001b[0m\u001b[0;34m\u001b[0m\u001b[0;34m\u001b[0m\u001b[0m\n\u001b[0m\u001b[1;32m      2\u001b[0m     \u001b[0mprint\u001b[0m\u001b[0;34m(\u001b[0m\u001b[0;34m'step: '\u001b[0m\u001b[0;34m,\u001b[0m \u001b[0mstep\u001b[0m\u001b[0;34m)\u001b[0m\u001b[0;34m\u001b[0m\u001b[0;34m\u001b[0m\u001b[0m\n\u001b[1;32m      3\u001b[0m     \u001b[0mprint\u001b[0m\u001b[0;34m(\u001b[0m\u001b[0;34m'y: '\u001b[0m\u001b[0;34m,\u001b[0m \u001b[0my\u001b[0m\u001b[0;34m)\u001b[0m\u001b[0;34m\u001b[0m\u001b[0;34m\u001b[0m\u001b[0m\n",
      "\u001b[0;31mValueError\u001b[0m: too many values to unpack (expected 2)"
     ]
    }
   ],
   "source": [
    "for step, (img, ) in enumerate(train_data):\n",
    "    print('step: ', step)\n",
    "    print('y: ', y)"
   ]
  },
  {
   "cell_type": "code",
   "execution_count": null,
   "metadata": {},
   "outputs": [],
   "source": []
  }
 ]
}